{
 "cells": [
  {
   "cell_type": "markdown",
   "metadata": {},
   "source": [
    "## Importing files using numpy's genfromtxt() and how to index and slice arrays"
   ]
  },
  {
   "cell_type": "markdown",
   "metadata": {},
   "source": [
    "This week we'll learn how to import files which is very handy if you have large data sets.  It's even handy if you don't want have to type in all of your data by hand if you've done your data taking in a text file for example.\n",
    "Once the data is imported into an array (generally a 2D array), we'll learn how to grab the data we want to assign to our x and y variables for plotting.\n",
    "\n",
    "Everyone download and open up the PHSX218_Week1 Jupyter notebook from Moodle or a Google Colab so that you can be ready to do some array work here in a bit."
   ]
  },
  {
   "cell_type": "code",
   "execution_count": 1,
   "metadata": {},
   "outputs": [
    {
     "name": "stdout",
     "output_type": "stream",
     "text": [
      "2\n",
      "[1 2]\n"
     ]
    }
   ],
   "source": [
    "import numpy as np\n",
    "import matplotlib.pyplot as plt\n",
    "\n",
    "#Create a couple simple arrays\n",
    "#1D array\n",
    "arr1 = np.array([2,4,5,6,8])\n",
    "#2D array\n",
    "arr2 = np.array([[1,2],[2,3],[6,8],[7,9]])\n",
    "\n",
    "#Draw on board to show 2D array and indices [row,col]\n",
    "\n",
    "#Indexing starts at 0, so the first element in an array is the zeroth\n",
    "\n",
    "print(arr1[0])\n",
    "print(arr2[0])"
   ]
  },
  {
   "cell_type": "markdown",
   "metadata": {},
   "source": [
    "Slicing means to grab portions of the array based on what you need.\n",
    "\n",
    "1. a[start:stop]  # items start through stop-1\n",
    "2. a[start:]      # items start through the rest of the array\n",
    "3. a[:stop]       # items from the beginning through stop-1\n",
    "4. a[:]           # a copy of the whole array\n",
    "\n",
    "\n",
    "The key point to remember is that the :stop value represents the first value that is not in the selected slice. So, the difference between stop and start is the number of elements selected.\n",
    "\n",
    "We will not be covering \"advanced\" slicing techniques"
   ]
  },
  {
   "cell_type": "code",
   "execution_count": 2,
   "metadata": {},
   "outputs": [
    {
     "name": "stdout",
     "output_type": "stream",
     "text": [
      "[2 4 5]\n",
      "[[2 3]\n",
      " [6 8]]\n"
     ]
    }
   ],
   "source": [
    "x = arr1[0:3]\n",
    "print(x)\n",
    "y = arr2[1:3]\n",
    "print (y)"
   ]
  },
  {
   "cell_type": "code",
   "execution_count": 3,
   "metadata": {},
   "outputs": [
    {
     "data": {
      "text/plain": [
       "array([2, 3])"
      ]
     },
     "execution_count": 3,
     "metadata": {},
     "output_type": "execute_result"
    }
   ],
   "source": [
    "#We don't have to use print statements or assign to variables if \n",
    "#we just want to look at some slices\n",
    "arr2[1]"
   ]
  },
  {
   "cell_type": "code",
   "execution_count": 4,
   "metadata": {},
   "outputs": [
    {
     "data": {
      "text/plain": [
       "array([[1, 2],\n",
       "       [2, 3],\n",
       "       [6, 8]])"
      ]
     },
     "execution_count": 4,
     "metadata": {},
     "output_type": "execute_result"
    }
   ],
   "source": [
    "arr2[:3]"
   ]
  },
  {
   "cell_type": "markdown",
   "metadata": {},
   "source": [
    "In a 2D array, the indices are [row,col]  Let's look at my drawing on the whiteboard."
   ]
  },
  {
   "cell_type": "markdown",
   "metadata": {},
   "source": [
    "So then if we want to grab the entire first column of data, we can do the following:"
   ]
  },
  {
   "cell_type": "code",
   "execution_count": 5,
   "metadata": {},
   "outputs": [
    {
     "name": "stdout",
     "output_type": "stream",
     "text": [
      "[1 2 6 7]\n"
     ]
    }
   ],
   "source": [
    "x = arr2[:,0] #: for all the rows, and 0 for the zeroth column only\n",
    "print (x)"
   ]
  },
  {
   "cell_type": "markdown",
   "metadata": {},
   "source": [
    "### Head to the breakout rooms for about 5 minutes to work on the following and then we'll come back \n",
    "1. With the 2D array, assign the first column of data to a variable x, and assign the second column of data to a variable y. Print out your results\n",
    "2. With the 2D array, assign the first two rows of the first column of data to a variable z and print out result. (your result should be [1,2])"
   ]
  },
  {
   "cell_type": "code",
   "execution_count": 6,
   "metadata": {
    "scrolled": true
   },
   "outputs": [
    {
     "name": "stdout",
     "output_type": "stream",
     "text": [
      "[1 2 6 7]\n",
      "[2 3 8 9]\n",
      "[1 2]\n"
     ]
    }
   ],
   "source": [
    "x = arr2[:,0]\n",
    "y = arr2[:,1]\n",
    "print(x)\n",
    "print(y)\n",
    "\n",
    "z =arr2[0:2,0]\n",
    "print(z)"
   ]
  },
  {
   "cell_type": "markdown",
   "metadata": {},
   "source": [
    "#### Let's look at importing data files and doing some plotting and analysis.  To do this we'll use Numpy's genfromtxt function.  There are a lot of options available with genfromtxt as shown in the API (Application Progamming Interface) below, which can make it seem really confusing at first, so we're going to keep it simple!"
   ]
  },
  {
   "cell_type": "markdown",
   "metadata": {},
   "source": [
    "numpy.genfromtxt(fname, dtype=<class 'float'>, comments='#', delimiter=None, skip_header=0, skip_footer=0, converters=None, missing_values=None, filling_values=None, usecols=None, names=None, excludelist=None, deletechars=\" !#$%&'()*+, -./:;<=>?@[]^{|}~\", replace_space='_', autostrip=False, case_sensitive=True, defaultfmt='f%i', unpack=None, usemask=False, loose=True, invalid_raise=True, max_rows=None, encoding='bytes')"
   ]
  },
  {
   "cell_type": "markdown",
   "metadata": {},
   "source": [
    "Satellites in low Earth orbit (LEO) operate between 250 and 1500 km above the ground. Because Earth's atmosphere extends hundreds of miles into space, LEOs eventually experience enough friction that they fall back to Earth and burn up. The accompanying text files gives the number of low Earth orbit satellites that reentered the Earth's atmosphere and the number of sunspots for each year since 1969. Graph the number of reentered satellites vs. the number of sunspots. Source: NASA Goddard Space Flight Center.\n",
    "\n",
    "\n",
    "Look first at satellite-failures.txt file.  "
   ]
  },
  {
   "cell_type": "code",
   "execution_count": 7,
   "metadata": {},
   "outputs": [
    {
     "name": "stdout",
     "output_type": "stream",
     "text": [
      "[[105.  26.]\n",
      " [107.  25.]\n",
      " [ 66.  19.]\n",
      " [ 67.  12.]\n",
      " [ 37.  14.]\n",
      " [ 32.  21.]\n",
      " [ 14.  15.]\n",
      " [ 12.  16.]\n",
      " [ 26.  18.]\n",
      " [ 87.  33.]\n",
      " [145.  42.]\n",
      " [149.  41.]\n",
      " [146.  32.]\n",
      " [115.  19.]\n",
      " [ 65.  28.]\n",
      " [ 43.  14.]\n",
      " [ 16.  17.]\n",
      " [ 11.  16.]\n",
      " [ 29.  13.]\n",
      " [101.  33.]\n",
      " [162.  45.]\n",
      " [145.  30.]\n",
      " [144.  40.]\n",
      " [ 93.  41.]\n",
      " [ 54.  28.]\n",
      " [ 31.  17.]\n",
      " [ 18.  20.]\n",
      " [  8.  22.]\n",
      " [ 20.  21.]\n",
      " [ 62.  30.]\n",
      " [ 96.  25.]\n",
      " [124.  37.]\n",
      " [123.  41.]\n",
      " [109.  38.]\n",
      " [ 66.  31.]\n",
      " [ 43.  19.]]\n"
     ]
    }
   ],
   "source": [
    "file=\"satellite-failures.txt\"\n",
    "data = np.genfromtxt(file,skip_header=1,usecols=(1,2))\n",
    "print(data)"
   ]
  },
  {
   "cell_type": "code",
   "execution_count": 8,
   "metadata": {
    "scrolled": true
   },
   "outputs": [
    {
     "name": "stdout",
     "output_type": "stream",
     "text": [
      "(36, 2)\n",
      "[105. 107.  66.  67.  37.  32.  14.  12.  26.  87. 145. 149. 146. 115.\n",
      "  65.  43.  16.  11.  29. 101. 162. 145. 144.  93.  54.  31.  18.   8.\n",
      "  20.  62.  96. 124. 123. 109.  66.  43.]\n",
      "[26. 25. 19. 12. 14. 21. 15. 16. 18. 33. 42. 41. 32. 19. 28. 14. 17. 16.\n",
      " 13. 33. 45. 30. 40. 41. 28. 17. 20. 22. 21. 30. 25. 37. 41. 38. 31. 19.]\n"
     ]
    }
   ],
   "source": [
    "# how big is the array?  (rows,cols) will be returned\n",
    "print (data.shape)\n",
    "\n",
    "#I want to select every row (:), but only those\n",
    "#whose second index is 0. This gives us the first column\n",
    "sunspots = data[:,0]\n",
    "\n",
    "#I want to select every row, but only the second thing in each\n",
    "#row, giving us our satellites data\n",
    "satellites = data[:,1]\n",
    "\n",
    "print (sunspots)\n",
    "print (satellites)\n"
   ]
  },
  {
   "cell_type": "code",
   "execution_count": 9,
   "metadata": {},
   "outputs": [
    {
     "name": "stdout",
     "output_type": "stream",
     "text": [
      "13.952004077267041 0.1635072456826606\n"
     ]
    },
    {
     "data": {
      "text/plain": [
       "[<matplotlib.lines.Line2D at 0x165100a6d00>]"
      ]
     },
     "execution_count": 9,
     "metadata": {},
     "output_type": "execute_result"
    },
    {
     "data": {
      "image/png": "[encoded data removed]",
      "text/plain": [
       "<Figure size 432x288 with 1 Axes>"
      ]
     },
     "metadata": {
      "needs_background": "light"
     },
     "output_type": "display_data"
    }
   ],
   "source": [
    "intercept, slope = np.polynomial.polynomial.polyfit(sunspots,satellites,1)\n",
    "\n",
    "print(intercept,slope)\n",
    "\n",
    "#create best fit line's x and y points\n",
    "x = np.linspace(0,162)\n",
    "\n",
    "#best fit line\n",
    "y = slope*x + intercept\n",
    "\n",
    "plt.xlabel(\"# of Sunspots in a year\")\n",
    "plt.ylabel(\"# of Satellites re-entering in a year\")\n",
    "plt.title(\"Satellites burning up vs sunspot count\")\n",
    "plt.scatter(sunspots,satellites,color=\"purple\")\n",
    "plt.plot(x,y) "
   ]
  },
  {
   "cell_type": "markdown",
   "metadata": {},
   "source": [
    "### Predict how many satellites would burn up if there were 400 sunspots in a year."
   ]
  },
  {
   "cell_type": "code",
   "execution_count": 10,
   "metadata": {},
   "outputs": [
    {
     "data": {
      "text/plain": [
       "79.35490235033129"
      ]
     },
     "execution_count": 10,
     "metadata": {},
     "output_type": "execute_result"
    }
   ],
   "source": [
    "slope*400+intercept"
   ]
  },
  {
   "cell_type": "markdown",
   "metadata": {},
   "source": [
    "### Lab Assignment\n",
    "Mauna Loa Observatory on the \"Big Island\" of Hawaii has been recording atmospheric carbon dioxide concentrations for nearly half a century beginning in the year 1958. Readings are taken continuously, but only the monthly averages are reported. Values are reported in parts per million (ppm) Construct a graph of atmospheric CO2 concentration vs. time. What two obvious behaviors are revealed in your graph? Split the data set in half, make two plots and perform a linear regression analysis on the data for the years… 1958-1987 and 1988-2017. Compare the behavior of CO2 levels in the first half of the data set to the second half. If the rate of CO2 concentration(ppm)/year continues as it has in the 1988-2017 range, what would the CO2 concentration(ppm) be in 2040?\n",
    "\n",
    "Source: Scripps Institution of Oceanography\n",
    "\n",
    "Use the co2-mauna-loa.txt file from Moodle.\n",
    "\n",
    "For the Moodle quiz, there are a few questions related to the review topics, and then you'll submit a github link for your notebook. "
   ]
  },
  {
   "cell_type": "code",
   "execution_count": 11,
   "metadata": {},
   "outputs": [
    {
     "name": "stdout",
     "output_type": "stream",
     "text": [
      "[[1958.208  315.71 ]\n",
      " [1958.292  317.45 ]\n",
      " [1958.375  317.5  ]\n",
      " ...\n",
      " [2017.792  403.63 ]\n",
      " [2017.875  405.12 ]\n",
      " [2017.958  406.81 ]]\n",
      "[1958.208 1958.292 1958.375 1958.458 1958.542 1958.625 1958.708 1958.792\n",
      " 1958.875 1958.958 1959.042 1959.125 1959.208 1959.292 1959.375 1959.458\n",
      " 1959.542 1959.625 1959.708 1959.792 1959.875 1959.958 1960.042 1960.125\n",
      " 1960.208 1960.292 1960.375 1960.458 1960.542 1960.625 1960.708 1960.792\n",
      " 1960.875 1960.958 1961.042 1961.125 1961.208 1961.292 1961.375 1961.458\n",
      " 1961.542 1961.625 1961.708 1961.792 1961.875 1961.958 1962.042 1962.125\n",
      " 1962.208 1962.292 1962.375 1962.458 1962.542 1962.625 1962.708 1962.792\n",
      " 1962.875 1962.958 1963.042 1963.125 1963.208 1963.292 1963.375 1963.458\n",
      " 1963.542 1963.625 1963.708 1963.792 1963.875 1963.958 1964.042 1964.125\n",
      " 1964.208 1964.292 1964.375 1964.458 1964.542 1964.625 1964.708 1964.792\n",
      " 1964.875 1964.958 1965.042 1965.125 1965.208 1965.292 1965.375 1965.458\n",
      " 1965.542 1965.625 1965.708 1965.792 1965.875 1965.958 1966.042 1966.125\n",
      " 1966.208 1966.292 1966.375 1966.458 1966.542 1966.625 1966.708 1966.792\n",
      " 1966.875 1966.958 1967.042 1967.125 1967.208 1967.292 1967.375 1967.458\n",
      " 1967.542 1967.625 1967.708 1967.792 1967.875 1967.958 1968.042 1968.125\n",
      " 1968.208 1968.292 1968.375 1968.458 1968.542 1968.625 1968.708 1968.792\n",
      " 1968.875 1968.958 1969.042 1969.125 1969.208 1969.292 1969.375 1969.458\n",
      " 1969.542 1969.625 1969.708 1969.792 1969.875 1969.958 1970.042 1970.125\n",
      " 1970.208 1970.292 1970.375 1970.458 1970.542 1970.625 1970.708 1970.792\n",
      " 1970.875 1970.958 1971.042 1971.125 1971.208 1971.292 1971.375 1971.458\n",
      " 1971.542 1971.625 1971.708 1971.792 1971.875 1971.958 1972.042 1972.125\n",
      " 1972.208 1972.292 1972.375 1972.458 1972.542 1972.625 1972.708 1972.792\n",
      " 1972.875 1972.958 1973.042 1973.125 1973.208 1973.292 1973.375 1973.458\n",
      " 1973.542 1973.625 1973.708 1973.792 1973.875 1973.958 1974.042 1974.125\n",
      " 1974.208 1974.292 1974.375 1974.458 1974.542 1974.625 1974.708 1974.792\n",
      " 1974.875 1974.958 1975.042 1975.125 1975.208 1975.292 1975.375 1975.458\n",
      " 1975.542 1975.625 1975.708 1975.792 1975.875 1975.958 1976.042 1976.125\n",
      " 1976.208 1976.292 1976.375 1976.458 1976.542 1976.625 1976.708 1976.792\n",
      " 1976.875 1976.958 1977.042 1977.125 1977.208 1977.292 1977.375 1977.458\n",
      " 1977.542 1977.625 1977.708 1977.792 1977.875 1977.958 1978.042 1978.125\n",
      " 1978.208 1978.292 1978.375 1978.458 1978.542 1978.625 1978.708 1978.792\n",
      " 1978.875 1978.958 1979.042 1979.125 1979.208 1979.292 1979.375 1979.458\n",
      " 1979.542 1979.625 1979.708 1979.792 1979.875 1979.958 1980.042 1980.125\n",
      " 1980.208 1980.292 1980.375 1980.458 1980.542 1980.625 1980.708 1980.792\n",
      " 1980.875 1980.958 1981.042 1981.125 1981.208 1981.292 1981.375 1981.458\n",
      " 1981.542 1981.625 1981.708 1981.792 1981.875 1981.958 1982.042 1982.125\n",
      " 1982.208 1982.292 1982.375 1982.458 1982.542 1982.625 1982.708 1982.792\n",
      " 1982.875 1982.958 1983.042 1983.125 1983.208 1983.292 1983.375 1983.458\n",
      " 1983.542 1983.625 1983.708 1983.792 1983.875 1983.958 1984.042 1984.125\n",
      " 1984.208 1984.292 1984.375 1984.458 1984.542 1984.625 1984.708 1984.792\n",
      " 1984.875 1984.958 1985.042 1985.125 1985.208 1985.292 1985.375 1985.458\n",
      " 1985.542 1985.625 1985.708 1985.792 1985.875 1985.958 1986.042 1986.125\n",
      " 1986.208 1986.292 1986.375 1986.458 1986.542 1986.625 1986.708 1986.792\n",
      " 1986.875 1986.958 1987.042 1987.125 1987.208 1987.292 1987.375 1987.458\n",
      " 1987.542 1987.625 1987.708 1987.792 1987.875 1987.958 1988.042 1988.125\n",
      " 1988.208 1988.292 1988.375 1988.458 1988.542 1988.625 1988.708 1988.792\n",
      " 1988.875 1988.958 1989.042 1989.125 1989.208 1989.292 1989.375 1989.458\n",
      " 1989.542 1989.625 1989.708 1989.792 1989.875 1989.958 1990.042 1990.125\n",
      " 1990.208 1990.292 1990.375 1990.458 1990.542 1990.625 1990.708 1990.792\n",
      " 1990.875 1990.958 1991.042 1991.125 1991.208 1991.292 1991.375 1991.458\n",
      " 1991.542 1991.625 1991.708 1991.792 1991.875 1991.958 1992.042 1992.125\n",
      " 1992.208 1992.292 1992.375 1992.458 1992.542 1992.625 1992.708 1992.792\n",
      " 1992.875 1992.958 1993.042 1993.125 1993.208 1993.292 1993.375 1993.458\n",
      " 1993.542 1993.625 1993.708 1993.792 1993.875 1993.958 1994.042 1994.125\n",
      " 1994.208 1994.292 1994.375 1994.458 1994.542 1994.625 1994.708 1994.792\n",
      " 1994.875 1994.958 1995.042 1995.125 1995.208 1995.292 1995.375 1995.458\n",
      " 1995.542 1995.625 1995.708 1995.792 1995.875 1995.958 1996.042 1996.125\n",
      " 1996.208 1996.292 1996.375 1996.458 1996.542 1996.625 1996.708 1996.792\n",
      " 1996.875 1996.958 1997.042 1997.125 1997.208 1997.292 1997.375 1997.458\n",
      " 1997.542 1997.625 1997.708 1997.792 1997.875 1997.958 1998.042 1998.125\n",
      " 1998.208 1998.292 1998.375 1998.458 1998.542 1998.625 1998.708 1998.792\n",
      " 1998.875 1998.958 1999.042 1999.125 1999.208 1999.292 1999.375 1999.458\n",
      " 1999.542 1999.625 1999.708 1999.792 1999.875 1999.958 2000.042 2000.125\n",
      " 2000.208 2000.292 2000.375 2000.458 2000.542 2000.625 2000.708 2000.792\n",
      " 2000.875 2000.958 2001.042 2001.125 2001.208 2001.292 2001.375 2001.458\n",
      " 2001.542 2001.625 2001.708 2001.792 2001.875 2001.958 2002.042 2002.125\n",
      " 2002.208 2002.292 2002.375 2002.458 2002.542 2002.625 2002.708 2002.792\n",
      " 2002.875 2002.958 2003.042 2003.125 2003.208 2003.292 2003.375 2003.458\n",
      " 2003.542 2003.625 2003.708 2003.792 2003.875 2003.958 2004.042 2004.125\n",
      " 2004.208 2004.292 2004.375 2004.458 2004.542 2004.625 2004.708 2004.792\n",
      " 2004.875 2004.958 2005.042 2005.125 2005.208 2005.292 2005.375 2005.458\n",
      " 2005.542 2005.625 2005.708 2005.792 2005.875 2005.958 2006.042 2006.125\n",
      " 2006.208 2006.292 2006.375 2006.458 2006.542 2006.625 2006.708 2006.792\n",
      " 2006.875 2006.958 2007.042 2007.125 2007.208 2007.292 2007.375 2007.458\n",
      " 2007.542 2007.625 2007.708 2007.792 2007.875 2007.958 2008.042 2008.125\n",
      " 2008.208 2008.292 2008.375 2008.458 2008.542 2008.625 2008.708 2008.792\n",
      " 2008.875 2008.958 2009.042 2009.125 2009.208 2009.292 2009.375 2009.458\n",
      " 2009.542 2009.625 2009.708 2009.792 2009.875 2009.958 2010.042 2010.125\n",
      " 2010.208 2010.292 2010.375 2010.458 2010.542 2010.625 2010.708 2010.792\n",
      " 2010.875 2010.958 2011.042 2011.125 2011.208 2011.292 2011.375 2011.458\n",
      " 2011.542 2011.625 2011.708 2011.792 2011.875 2011.958 2012.042 2012.125\n",
      " 2012.208 2012.292 2012.375 2012.458 2012.542 2012.625 2012.708 2012.792\n",
      " 2012.875 2012.958 2013.042 2013.125 2013.208 2013.292 2013.375 2013.458\n",
      " 2013.542 2013.625 2013.708 2013.792 2013.875 2013.958 2014.042 2014.125\n",
      " 2014.208 2014.292 2014.375 2014.458 2014.542 2014.625 2014.708 2014.792\n",
      " 2014.875 2014.958 2015.042 2015.125 2015.208 2015.292 2015.375 2015.458\n",
      " 2015.542 2015.625 2015.708 2015.792 2015.875 2015.958 2016.042 2016.125\n",
      " 2016.208 2016.292 2016.375 2016.458 2016.542 2016.625 2016.708 2016.792\n",
      " 2016.875 2016.958 2017.042 2017.125 2017.208 2017.292 2017.375 2017.458\n",
      " 2017.542 2017.625 2017.708 2017.792 2017.875 2017.958]\n",
      "[315.71 317.45 317.5  316.   315.86 314.93 313.2  313.   313.33 314.67\n",
      " 315.62 316.38 316.71 317.72 318.29 318.15 316.54 314.8  313.84 313.26\n",
      " 314.8  315.58 316.43 316.97 317.58 319.02 320.03 319.59 318.18 315.91\n",
      " 314.16 313.83 315.   316.19 316.93 317.7  318.54 319.48 320.58 319.77\n",
      " 318.57 316.79 314.8  315.38 316.1  317.01 317.94 318.56 319.68 320.63\n",
      " 321.01 320.55 319.58 317.4  316.26 315.42 316.69 317.69 318.74 319.08\n",
      " 319.86 321.39 322.25 321.47 319.74 317.77 316.21 315.99 317.12 318.31\n",
      " 319.57 320.1  320.5  321.25 322.25 321.89 320.44 318.7  316.7  316.79\n",
      " 317.79 318.71 319.44 320.44 320.89 322.13 322.16 321.87 321.39 318.81\n",
      " 317.81 317.3  318.87 319.42 320.62 321.59 322.39 323.87 324.01 323.75\n",
      " 322.39 320.37 318.64 318.1  319.79 321.08 322.07 322.5  323.04 324.42\n",
      " 325.   324.09 322.55 320.92 319.31 319.31 320.72 321.96 322.57 323.15\n",
      " 323.89 325.02 325.57 325.36 324.14 322.03 320.41 320.25 321.31 322.84\n",
      " 324.   324.42 325.64 326.66 327.34 326.76 325.88 323.67 322.38 321.78\n",
      " 322.85 324.11 325.03 325.99 326.87 328.13 328.07 327.66 326.35 324.69\n",
      " 323.1  323.16 323.98 325.13 326.17 326.68 327.18 327.78 328.92 328.57\n",
      " 327.34 325.46 323.36 323.57 324.8  326.01 326.77 327.63 327.75 329.72\n",
      " 330.07 329.09 328.05 326.32 324.93 325.06 326.5  327.55 328.54 329.56\n",
      " 330.3  331.5  332.48 332.07 330.87 329.31 327.51 327.18 328.16 328.64\n",
      " 329.35 330.71 331.48 332.65 333.19 332.16 331.07 329.12 327.32 327.28\n",
      " 328.3  329.58 330.73 331.46 331.9  333.17 333.94 333.45 331.97 329.95\n",
      " 328.5  328.34 329.37 330.   331.59 332.75 333.52 334.64 334.77 334.\n",
      " 333.06 330.68 328.95 328.75 330.15 331.62 332.66 333.13 334.95 336.13\n",
      " 336.93 336.17 334.88 332.56 331.29 331.27 332.41 333.6  334.95 335.25\n",
      " 336.66 337.69 338.03 338.01 336.41 334.41 332.37 332.41 333.75 334.9\n",
      " 336.14 336.69 338.27 338.95 339.21 339.26 337.54 335.75 333.98 334.19\n",
      " 335.31 336.81 337.9  338.34 340.01 340.93 341.48 341.33 339.4  337.7\n",
      " 336.19 336.15 337.27 338.32 339.29 340.55 341.61 342.53 343.03 342.54\n",
      " 340.78 338.44 336.95 337.08 338.58 339.88 340.96 341.73 342.81 343.97\n",
      " 344.63 343.79 342.32 340.09 338.28 338.29 339.6  340.9  341.68 342.9\n",
      " 343.33 345.25 346.03 345.63 344.19 342.27 340.35 340.38 341.59 343.05\n",
      " 344.1  344.79 345.52 346.   347.63 346.98 345.53 343.55 341.4  341.67\n",
      " 343.1  344.7  345.21 346.16 347.74 348.34 349.06 348.38 346.71 345.02\n",
      " 343.27 343.13 344.49 345.88 346.56 347.28 348.01 349.77 350.38 349.93\n",
      " 348.16 346.08 345.22 344.51 345.93 347.22 348.52 348.73 349.73 351.31\n",
      " 352.09 351.53 350.11 348.08 346.52 346.59 347.96 349.16 350.39 351.64\n",
      " 352.4  353.69 354.21 353.72 352.69 350.4  348.92 349.12 350.2  351.41\n",
      " 352.91 353.27 353.96 355.64 355.86 355.37 353.99 351.81 350.05 350.25\n",
      " 351.49 352.85 353.8  355.04 355.73 356.32 357.32 356.34 354.84 353.01\n",
      " 351.31 351.62 353.07 354.33 354.84 355.73 357.23 358.66 359.13 358.13\n",
      " 356.19 353.85 352.25 352.35 353.81 355.12 356.25 357.11 357.86 359.09\n",
      " 359.59 359.33 357.01 354.94 352.96 353.32 354.32 355.57 357.   357.31\n",
      " 358.47 359.27 360.19 359.52 357.33 355.64 354.03 354.12 355.41 356.91\n",
      " 358.24 358.92 359.99 361.23 361.65 360.81 359.38 357.46 355.73 356.08\n",
      " 357.53 358.98 359.92 360.86 361.83 363.3  363.69 363.19 361.64 359.12\n",
      " 358.17 357.99 359.45 360.68 362.07 363.24 364.17 364.57 365.13 364.92\n",
      " 363.55 361.38 359.54 359.58 360.89 362.24 363.09 364.03 364.51 366.35\n",
      " 366.64 365.59 364.31 362.25 360.29 360.82 362.49 364.38 365.27 365.98\n",
      " 367.24 368.66 369.42 368.99 367.82 365.95 364.02 364.4  365.52 367.13\n",
      " 368.18 369.07 369.68 370.99 370.96 370.3  369.45 366.9  364.81 365.37\n",
      " 366.72 368.1  369.29 369.54 370.6  371.82 371.58 371.7  369.86 368.13\n",
      " 367.   367.03 368.37 369.67 370.59 371.51 372.43 373.37 373.85 373.22\n",
      " 371.5  369.61 368.18 368.45 369.76 371.24 372.53 373.2  374.12 375.02\n",
      " 375.76 375.52 374.01 371.85 370.75 370.55 372.25 373.79 374.88 375.64\n",
      " 376.45 377.73 378.6  378.28 376.7  374.38 373.17 373.15 374.66 375.99\n",
      " 377.   377.87 378.88 380.35 380.62 379.69 377.47 376.01 374.25 374.46\n",
      " 376.16 377.51 378.46 379.73 380.77 382.29 382.45 382.21 380.74 378.74\n",
      " 376.7  377.   378.35 380.11 381.38 382.19 382.67 384.61 385.03 384.05\n",
      " 382.46 380.41 378.85 379.13 380.15 381.82 382.89 383.9  384.58 386.5\n",
      " 386.56 386.1  384.5  381.99 380.96 381.12 382.45 383.95 385.52 385.82\n",
      " 386.03 387.21 388.54 387.76 386.36 384.09 383.18 382.99 384.19 385.56\n",
      " 386.94 387.48 388.82 389.55 390.14 389.48 388.03 386.11 384.74 384.43\n",
      " 386.02 387.42 388.71 390.2  391.17 392.46 393.   392.15 390.2  388.35\n",
      " 386.85 387.24 388.67 389.79 391.33 391.86 392.6  393.25 394.19 393.74\n",
      " 392.51 390.13 389.08 389.   390.28 391.86 393.12 393.86 394.4  396.18\n",
      " 396.74 395.71 394.36 392.39 391.11 391.05 392.98 394.34 395.55 396.8\n",
      " 397.43 398.41 399.78 398.61 397.32 395.2  393.45 393.7  395.16 396.84\n",
      " 397.85 398.01 399.77 401.38 401.78 401.25 399.1  397.03 395.38 396.03\n",
      " 397.28 398.91 399.98 400.28 401.54 403.28 403.96 402.8  401.31 398.93\n",
      " 397.63 398.29 400.16 401.85 402.56 404.12 404.87 407.45 407.72 406.83\n",
      " 404.41 402.27 401.05 401.59 403.55 404.45 406.17 406.46 407.22 409.04\n",
      " 409.69 408.88 407.12 405.13 403.37 403.63 405.12 406.81]\n"
     ]
    }
   ],
   "source": [
    "file= \"co2-mauna-loa.txt\"\n",
    "data = np.genfromtxt(file,skip_header=2,usecols=(0,1))\n",
    "print(data)\n",
    "\n",
    "#I want to select every row (:), but only those\n",
    "#whose second index is 0. This gives us the first column\n",
    "time = data[:,0]\n",
    "\n",
    "#I want to select every row, but only the second thing in each\n",
    "#row, giving us our satellites data\n",
    "concentration= data[:,1]\n",
    "\n",
    "print (time)\n",
    "print (concentration)\n"
   ]
  },
  {
   "cell_type": "code",
   "execution_count": 12,
   "metadata": {},
   "outputs": [
    {
     "name": "stdout",
     "output_type": "stream",
     "text": [
      "(718, 2)\n",
      "[1958.208 1958.292 1958.375 1958.458 1958.542 1958.625 1958.708 1958.792\n",
      " 1958.875 1958.958 1959.042 1959.125 1959.208 1959.292 1959.375 1959.458\n",
      " 1959.542 1959.625 1959.708 1959.792 1959.875 1959.958 1960.042 1960.125\n",
      " 1960.208 1960.292 1960.375 1960.458 1960.542 1960.625 1960.708 1960.792\n",
      " 1960.875 1960.958 1961.042 1961.125 1961.208 1961.292 1961.375 1961.458\n",
      " 1961.542 1961.625 1961.708 1961.792 1961.875 1961.958 1962.042 1962.125\n",
      " 1962.208 1962.292 1962.375 1962.458 1962.542 1962.625 1962.708 1962.792\n",
      " 1962.875 1962.958 1963.042 1963.125 1963.208 1963.292 1963.375 1963.458\n",
      " 1963.542 1963.625 1963.708 1963.792 1963.875 1963.958 1964.042 1964.125\n",
      " 1964.208 1964.292 1964.375 1964.458 1964.542 1964.625 1964.708 1964.792\n",
      " 1964.875 1964.958 1965.042 1965.125 1965.208 1965.292 1965.375 1965.458\n",
      " 1965.542 1965.625 1965.708 1965.792 1965.875 1965.958 1966.042 1966.125\n",
      " 1966.208 1966.292 1966.375 1966.458 1966.542 1966.625 1966.708 1966.792\n",
      " 1966.875 1966.958 1967.042 1967.125 1967.208 1967.292 1967.375 1967.458\n",
      " 1967.542 1967.625 1967.708 1967.792 1967.875 1967.958 1968.042 1968.125\n",
      " 1968.208 1968.292 1968.375 1968.458 1968.542 1968.625 1968.708 1968.792\n",
      " 1968.875 1968.958 1969.042 1969.125 1969.208 1969.292 1969.375 1969.458\n",
      " 1969.542 1969.625 1969.708 1969.792 1969.875 1969.958 1970.042 1970.125\n",
      " 1970.208 1970.292 1970.375 1970.458 1970.542 1970.625 1970.708 1970.792\n",
      " 1970.875 1970.958 1971.042 1971.125 1971.208 1971.292 1971.375 1971.458\n",
      " 1971.542 1971.625 1971.708 1971.792 1971.875 1971.958 1972.042 1972.125\n",
      " 1972.208 1972.292 1972.375 1972.458 1972.542 1972.625 1972.708 1972.792\n",
      " 1972.875 1972.958 1973.042 1973.125 1973.208 1973.292 1973.375 1973.458\n",
      " 1973.542 1973.625 1973.708 1973.792 1973.875 1973.958 1974.042 1974.125\n",
      " 1974.208 1974.292 1974.375 1974.458 1974.542 1974.625 1974.708 1974.792\n",
      " 1974.875 1974.958 1975.042 1975.125 1975.208 1975.292 1975.375 1975.458\n",
      " 1975.542 1975.625 1975.708 1975.792 1975.875 1975.958 1976.042 1976.125\n",
      " 1976.208 1976.292 1976.375 1976.458 1976.542 1976.625 1976.708 1976.792\n",
      " 1976.875 1976.958 1977.042 1977.125 1977.208 1977.292 1977.375 1977.458\n",
      " 1977.542 1977.625 1977.708 1977.792 1977.875 1977.958 1978.042 1978.125\n",
      " 1978.208 1978.292 1978.375 1978.458 1978.542 1978.625 1978.708 1978.792\n",
      " 1978.875 1978.958 1979.042 1979.125 1979.208 1979.292 1979.375 1979.458\n",
      " 1979.542 1979.625 1979.708 1979.792 1979.875 1979.958 1980.042 1980.125\n",
      " 1980.208 1980.292 1980.375 1980.458 1980.542 1980.625 1980.708 1980.792\n",
      " 1980.875 1980.958 1981.042 1981.125 1981.208 1981.292 1981.375 1981.458\n",
      " 1981.542 1981.625 1981.708 1981.792 1981.875 1981.958 1982.042 1982.125\n",
      " 1982.208 1982.292 1982.375 1982.458 1982.542 1982.625 1982.708 1982.792\n",
      " 1982.875 1982.958 1983.042 1983.125 1983.208 1983.292 1983.375 1983.458\n",
      " 1983.542 1983.625 1983.708 1983.792 1983.875 1983.958 1984.042 1984.125\n",
      " 1984.208 1984.292 1984.375 1984.458 1984.542 1984.625 1984.708 1984.792\n",
      " 1984.875 1984.958 1985.042 1985.125 1985.208 1985.292 1985.375 1985.458\n",
      " 1985.542 1985.625 1985.708 1985.792 1985.875 1985.958 1986.042 1986.125\n",
      " 1986.208 1986.292 1986.375 1986.458 1986.542 1986.625 1986.708 1986.792\n",
      " 1986.875 1986.958 1987.042 1987.125 1987.208 1987.292 1987.375 1987.458\n",
      " 1987.542 1987.625 1987.708 1987.792 1987.875 1987.958 1988.042 1988.125\n",
      " 1988.208 1988.292 1988.375 1988.458 1988.542 1988.625 1988.708 1988.792\n",
      " 1988.875 1988.958 1989.042 1989.125 1989.208 1989.292 1989.375 1989.458\n",
      " 1989.542 1989.625 1989.708 1989.792 1989.875 1989.958 1990.042 1990.125\n",
      " 1990.208 1990.292 1990.375 1990.458 1990.542 1990.625 1990.708 1990.792\n",
      " 1990.875 1990.958 1991.042 1991.125 1991.208 1991.292 1991.375 1991.458\n",
      " 1991.542 1991.625 1991.708 1991.792 1991.875 1991.958 1992.042 1992.125\n",
      " 1992.208 1992.292 1992.375 1992.458 1992.542 1992.625 1992.708 1992.792\n",
      " 1992.875 1992.958 1993.042 1993.125 1993.208 1993.292 1993.375 1993.458\n",
      " 1993.542 1993.625 1993.708 1993.792 1993.875 1993.958 1994.042 1994.125\n",
      " 1994.208 1994.292 1994.375 1994.458 1994.542 1994.625 1994.708 1994.792\n",
      " 1994.875 1994.958 1995.042 1995.125 1995.208 1995.292 1995.375 1995.458\n",
      " 1995.542 1995.625 1995.708 1995.792 1995.875 1995.958 1996.042 1996.125\n",
      " 1996.208 1996.292 1996.375 1996.458 1996.542 1996.625 1996.708 1996.792\n",
      " 1996.875 1996.958 1997.042 1997.125 1997.208 1997.292 1997.375 1997.458\n",
      " 1997.542 1997.625 1997.708 1997.792 1997.875 1997.958 1998.042 1998.125\n",
      " 1998.208 1998.292 1998.375 1998.458 1998.542 1998.625 1998.708 1998.792\n",
      " 1998.875 1998.958 1999.042 1999.125 1999.208 1999.292 1999.375 1999.458\n",
      " 1999.542 1999.625 1999.708 1999.792 1999.875 1999.958 2000.042 2000.125\n",
      " 2000.208 2000.292 2000.375 2000.458 2000.542 2000.625 2000.708 2000.792\n",
      " 2000.875 2000.958 2001.042 2001.125 2001.208 2001.292 2001.375 2001.458\n",
      " 2001.542 2001.625 2001.708 2001.792 2001.875 2001.958 2002.042 2002.125\n",
      " 2002.208 2002.292 2002.375 2002.458 2002.542 2002.625 2002.708 2002.792\n",
      " 2002.875 2002.958 2003.042 2003.125 2003.208 2003.292 2003.375 2003.458\n",
      " 2003.542 2003.625 2003.708 2003.792 2003.875 2003.958 2004.042 2004.125\n",
      " 2004.208 2004.292 2004.375 2004.458 2004.542 2004.625 2004.708 2004.792\n",
      " 2004.875 2004.958 2005.042 2005.125 2005.208 2005.292 2005.375 2005.458\n",
      " 2005.542 2005.625 2005.708 2005.792 2005.875 2005.958 2006.042 2006.125\n",
      " 2006.208 2006.292 2006.375 2006.458 2006.542 2006.625 2006.708 2006.792\n",
      " 2006.875 2006.958 2007.042 2007.125 2007.208 2007.292 2007.375 2007.458\n",
      " 2007.542 2007.625 2007.708 2007.792 2007.875 2007.958 2008.042 2008.125\n",
      " 2008.208 2008.292 2008.375 2008.458 2008.542 2008.625 2008.708 2008.792\n",
      " 2008.875 2008.958 2009.042 2009.125 2009.208 2009.292 2009.375 2009.458\n",
      " 2009.542 2009.625 2009.708 2009.792 2009.875 2009.958 2010.042 2010.125\n",
      " 2010.208 2010.292 2010.375 2010.458 2010.542 2010.625 2010.708 2010.792\n",
      " 2010.875 2010.958 2011.042 2011.125 2011.208 2011.292 2011.375 2011.458\n",
      " 2011.542 2011.625 2011.708 2011.792 2011.875 2011.958 2012.042 2012.125\n",
      " 2012.208 2012.292 2012.375 2012.458 2012.542 2012.625 2012.708 2012.792\n",
      " 2012.875 2012.958 2013.042 2013.125 2013.208 2013.292 2013.375 2013.458\n",
      " 2013.542 2013.625 2013.708 2013.792 2013.875 2013.958 2014.042 2014.125\n",
      " 2014.208 2014.292 2014.375 2014.458 2014.542 2014.625 2014.708 2014.792\n",
      " 2014.875 2014.958 2015.042 2015.125 2015.208 2015.292 2015.375 2015.458\n",
      " 2015.542 2015.625 2015.708 2015.792 2015.875 2015.958 2016.042 2016.125\n",
      " 2016.208 2016.292 2016.375 2016.458 2016.542 2016.625 2016.708 2016.792\n",
      " 2016.875 2016.958 2017.042 2017.125 2017.208 2017.292 2017.375 2017.458\n",
      " 2017.542 2017.625 2017.708 2017.792 2017.875 2017.958]\n",
      "[315.71 317.45 317.5  316.   315.86 314.93 313.2  313.   313.33 314.67\n",
      " 315.62 316.38 316.71 317.72 318.29 318.15 316.54 314.8  313.84 313.26\n",
      " 314.8  315.58 316.43 316.97 317.58 319.02 320.03 319.59 318.18 315.91\n",
      " 314.16 313.83 315.   316.19 316.93 317.7  318.54 319.48 320.58 319.77\n",
      " 318.57 316.79 314.8  315.38 316.1  317.01 317.94 318.56 319.68 320.63\n",
      " 321.01 320.55 319.58 317.4  316.26 315.42 316.69 317.69 318.74 319.08\n",
      " 319.86 321.39 322.25 321.47 319.74 317.77 316.21 315.99 317.12 318.31\n",
      " 319.57 320.1  320.5  321.25 322.25 321.89 320.44 318.7  316.7  316.79\n",
      " 317.79 318.71 319.44 320.44 320.89 322.13 322.16 321.87 321.39 318.81\n",
      " 317.81 317.3  318.87 319.42 320.62 321.59 322.39 323.87 324.01 323.75\n",
      " 322.39 320.37 318.64 318.1  319.79 321.08 322.07 322.5  323.04 324.42\n",
      " 325.   324.09 322.55 320.92 319.31 319.31 320.72 321.96 322.57 323.15\n",
      " 323.89 325.02 325.57 325.36 324.14 322.03 320.41 320.25 321.31 322.84\n",
      " 324.   324.42 325.64 326.66 327.34 326.76 325.88 323.67 322.38 321.78\n",
      " 322.85 324.11 325.03 325.99 326.87 328.13 328.07 327.66 326.35 324.69\n",
      " 323.1  323.16 323.98 325.13 326.17 326.68 327.18 327.78 328.92 328.57\n",
      " 327.34 325.46 323.36 323.57 324.8  326.01 326.77 327.63 327.75 329.72\n",
      " 330.07 329.09 328.05 326.32 324.93 325.06 326.5  327.55 328.54 329.56\n",
      " 330.3  331.5  332.48 332.07 330.87 329.31 327.51 327.18 328.16 328.64\n",
      " 329.35 330.71 331.48 332.65 333.19 332.16 331.07 329.12 327.32 327.28\n",
      " 328.3  329.58 330.73 331.46 331.9  333.17 333.94 333.45 331.97 329.95\n",
      " 328.5  328.34 329.37 330.   331.59 332.75 333.52 334.64 334.77 334.\n",
      " 333.06 330.68 328.95 328.75 330.15 331.62 332.66 333.13 334.95 336.13\n",
      " 336.93 336.17 334.88 332.56 331.29 331.27 332.41 333.6  334.95 335.25\n",
      " 336.66 337.69 338.03 338.01 336.41 334.41 332.37 332.41 333.75 334.9\n",
      " 336.14 336.69 338.27 338.95 339.21 339.26 337.54 335.75 333.98 334.19\n",
      " 335.31 336.81 337.9  338.34 340.01 340.93 341.48 341.33 339.4  337.7\n",
      " 336.19 336.15 337.27 338.32 339.29 340.55 341.61 342.53 343.03 342.54\n",
      " 340.78 338.44 336.95 337.08 338.58 339.88 340.96 341.73 342.81 343.97\n",
      " 344.63 343.79 342.32 340.09 338.28 338.29 339.6  340.9  341.68 342.9\n",
      " 343.33 345.25 346.03 345.63 344.19 342.27 340.35 340.38 341.59 343.05\n",
      " 344.1  344.79 345.52 346.   347.63 346.98 345.53 343.55 341.4  341.67\n",
      " 343.1  344.7  345.21 346.16 347.74 348.34 349.06 348.38 346.71 345.02\n",
      " 343.27 343.13 344.49 345.88 346.56 347.28 348.01 349.77 350.38 349.93\n",
      " 348.16 346.08 345.22 344.51 345.93 347.22 348.52 348.73 349.73 351.31\n",
      " 352.09 351.53 350.11 348.08 346.52 346.59 347.96 349.16 350.39 351.64\n",
      " 352.4  353.69 354.21 353.72 352.69 350.4  348.92 349.12 350.2  351.41\n",
      " 352.91 353.27 353.96 355.64 355.86 355.37 353.99 351.81 350.05 350.25\n",
      " 351.49 352.85 353.8  355.04 355.73 356.32 357.32 356.34 354.84 353.01\n",
      " 351.31 351.62 353.07 354.33 354.84 355.73 357.23 358.66 359.13 358.13\n",
      " 356.19 353.85 352.25 352.35 353.81 355.12 356.25 357.11 357.86 359.09\n",
      " 359.59 359.33 357.01 354.94 352.96 353.32 354.32 355.57 357.   357.31\n",
      " 358.47 359.27 360.19 359.52 357.33 355.64 354.03 354.12 355.41 356.91\n",
      " 358.24 358.92 359.99 361.23 361.65 360.81 359.38 357.46 355.73 356.08\n",
      " 357.53 358.98 359.92 360.86 361.83 363.3  363.69 363.19 361.64 359.12\n",
      " 358.17 357.99 359.45 360.68 362.07 363.24 364.17 364.57 365.13 364.92\n",
      " 363.55 361.38 359.54 359.58 360.89 362.24 363.09 364.03 364.51 366.35\n",
      " 366.64 365.59 364.31 362.25 360.29 360.82 362.49 364.38 365.27 365.98\n",
      " 367.24 368.66 369.42 368.99 367.82 365.95 364.02 364.4  365.52 367.13\n",
      " 368.18 369.07 369.68 370.99 370.96 370.3  369.45 366.9  364.81 365.37\n",
      " 366.72 368.1  369.29 369.54 370.6  371.82 371.58 371.7  369.86 368.13\n",
      " 367.   367.03 368.37 369.67 370.59 371.51 372.43 373.37 373.85 373.22\n",
      " 371.5  369.61 368.18 368.45 369.76 371.24 372.53 373.2  374.12 375.02\n",
      " 375.76 375.52 374.01 371.85 370.75 370.55 372.25 373.79 374.88 375.64\n",
      " 376.45 377.73 378.6  378.28 376.7  374.38 373.17 373.15 374.66 375.99\n",
      " 377.   377.87 378.88 380.35 380.62 379.69 377.47 376.01 374.25 374.46\n",
      " 376.16 377.51 378.46 379.73 380.77 382.29 382.45 382.21 380.74 378.74\n",
      " 376.7  377.   378.35 380.11 381.38 382.19 382.67 384.61 385.03 384.05\n",
      " 382.46 380.41 378.85 379.13 380.15 381.82 382.89 383.9  384.58 386.5\n",
      " 386.56 386.1  384.5  381.99 380.96 381.12 382.45 383.95 385.52 385.82\n",
      " 386.03 387.21 388.54 387.76 386.36 384.09 383.18 382.99 384.19 385.56\n",
      " 386.94 387.48 388.82 389.55 390.14 389.48 388.03 386.11 384.74 384.43\n",
      " 386.02 387.42 388.71 390.2  391.17 392.46 393.   392.15 390.2  388.35\n",
      " 386.85 387.24 388.67 389.79 391.33 391.86 392.6  393.25 394.19 393.74\n",
      " 392.51 390.13 389.08 389.   390.28 391.86 393.12 393.86 394.4  396.18\n",
      " 396.74 395.71 394.36 392.39 391.11 391.05 392.98 394.34 395.55 396.8\n",
      " 397.43 398.41 399.78 398.61 397.32 395.2  393.45 393.7  395.16 396.84\n",
      " 397.85 398.01 399.77 401.38 401.78 401.25 399.1  397.03 395.38 396.03\n",
      " 397.28 398.91 399.98 400.28 401.54 403.28 403.96 402.8  401.31 398.93\n",
      " 397.63 398.29 400.16 401.85 402.56 404.12 404.87 407.45 407.72 406.83\n",
      " 404.41 402.27 401.05 401.59 403.55 404.45 406.17 406.46 407.22 409.04\n",
      " 409.69 408.88 407.12 405.13 403.37 403.63 405.12 406.81]\n"
     ]
    }
   ],
   "source": [
    "# how big is the array?  (rows,cols) will be returned\n",
    "print (data.shape)\n",
    "\n",
    "#I want to select every row (:), but only those\n",
    "#whose second index is 0. This gives us the first column\n",
    "time = data[:,0]\n",
    "\n",
    "#I want to select every row, but only the second thing in each\n",
    "#row, giving us our satellites data\n",
    "concentration = data[:,1]\n",
    "\n",
    "print (time)\n",
    "print (concentration)"
   ]
  },
  {
   "cell_type": "code",
   "execution_count": 13,
   "metadata": {},
   "outputs": [
    {
     "name": "stdout",
     "output_type": "stream",
     "text": [
      "-2707.538589005506 1.5394142845450598\n"
     ]
    },
    {
     "data": {
      "text/plain": [
       "[<matplotlib.lines.Line2D at 0x165101b4700>]"
      ]
     },
     "execution_count": 13,
     "metadata": {},
     "output_type": "execute_result"
    },
    {
     "data": {
      "image/png": "[encoded data removed]",
      "text/plain": [
       "<Figure size 432x288 with 1 Axes>"
      ]
     },
     "metadata": {
      "needs_background": "light"
     },
     "output_type": "display_data"
    }
   ],
   "source": [
    "intercept, slope = np.polynomial.polynomial.polyfit(time,concentration,1)\n",
    "\n",
    "print(intercept,slope)\n",
    "\n",
    "#create best fit line's x and y points\n",
    "x = np.linspace(1958.208,2017.958)\n",
    "\n",
    "#best fit line\n",
    "y = slope*x + intercept\n",
    "\n",
    "plt.xlabel(\"time\")\n",
    "plt.ylabel(\"concentration\")\n",
    "plt.title(\"concentration v.s time\")\n",
    "plt.scatter(time,concentration,color=\"purple\")\n",
    "plt.plot(x,y) "
   ]
  },
  {
   "cell_type": "code",
   "execution_count": 18,
   "metadata": {},
   "outputs": [
    {
     "name": "stdout",
     "output_type": "stream",
     "text": [
      "[1958.208 1958.292 1958.375 1958.458 1958.542 1958.625 1958.708 1958.792\n",
      " 1958.875 1958.958 1959.042 1959.125 1959.208 1959.292 1959.375 1959.458\n",
      " 1959.542 1959.625 1959.708 1959.792 1959.875 1959.958 1960.042 1960.125\n",
      " 1960.208 1960.292 1960.375 1960.458 1960.542 1960.625 1960.708 1960.792\n",
      " 1960.875 1960.958 1961.042 1961.125 1961.208 1961.292 1961.375 1961.458\n",
      " 1961.542 1961.625 1961.708 1961.792 1961.875 1961.958 1962.042 1962.125\n",
      " 1962.208 1962.292 1962.375 1962.458 1962.542 1962.625 1962.708 1962.792\n",
      " 1962.875 1962.958 1963.042 1963.125 1963.208 1963.292 1963.375 1963.458\n",
      " 1963.542 1963.625 1963.708 1963.792 1963.875 1963.958 1964.042 1964.125\n",
      " 1964.208 1964.292 1964.375 1964.458 1964.542 1964.625 1964.708 1964.792\n",
      " 1964.875 1964.958 1965.042 1965.125 1965.208 1965.292 1965.375 1965.458\n",
      " 1965.542 1965.625 1965.708 1965.792 1965.875 1965.958 1966.042 1966.125\n",
      " 1966.208 1966.292 1966.375 1966.458 1966.542 1966.625 1966.708 1966.792\n",
      " 1966.875 1966.958 1967.042 1967.125 1967.208 1967.292 1967.375 1967.458\n",
      " 1967.542 1967.625 1967.708 1967.792 1967.875 1967.958 1968.042 1968.125\n",
      " 1968.208 1968.292 1968.375 1968.458 1968.542 1968.625 1968.708 1968.792\n",
      " 1968.875 1968.958 1969.042 1969.125 1969.208 1969.292 1969.375 1969.458\n",
      " 1969.542 1969.625 1969.708 1969.792 1969.875 1969.958 1970.042 1970.125\n",
      " 1970.208 1970.292 1970.375 1970.458 1970.542 1970.625 1970.708 1970.792\n",
      " 1970.875 1970.958 1971.042 1971.125 1971.208 1971.292 1971.375 1971.458\n",
      " 1971.542 1971.625 1971.708 1971.792 1971.875 1971.958 1972.042 1972.125\n",
      " 1972.208 1972.292 1972.375 1972.458 1972.542 1972.625 1972.708 1972.792\n",
      " 1972.875 1972.958 1973.042 1973.125 1973.208 1973.292 1973.375 1973.458\n",
      " 1973.542 1973.625 1973.708 1973.792 1973.875 1973.958 1974.042 1974.125\n",
      " 1974.208 1974.292 1974.375 1974.458 1974.542 1974.625 1974.708 1974.792\n",
      " 1974.875 1974.958 1975.042 1975.125 1975.208 1975.292 1975.375 1975.458\n",
      " 1975.542 1975.625 1975.708 1975.792 1975.875 1975.958 1976.042 1976.125\n",
      " 1976.208 1976.292 1976.375 1976.458 1976.542 1976.625 1976.708 1976.792\n",
      " 1976.875 1976.958 1977.042 1977.125 1977.208 1977.292 1977.375 1977.458\n",
      " 1977.542 1977.625 1977.708 1977.792 1977.875 1977.958 1978.042 1978.125\n",
      " 1978.208 1978.292 1978.375 1978.458 1978.542 1978.625 1978.708 1978.792\n",
      " 1978.875 1978.958 1979.042 1979.125 1979.208 1979.292 1979.375 1979.458\n",
      " 1979.542 1979.625 1979.708 1979.792 1979.875 1979.958 1980.042 1980.125\n",
      " 1980.208 1980.292 1980.375 1980.458 1980.542 1980.625 1980.708 1980.792\n",
      " 1980.875 1980.958 1981.042 1981.125 1981.208 1981.292 1981.375 1981.458\n",
      " 1981.542 1981.625 1981.708 1981.792 1981.875 1981.958 1982.042 1982.125\n",
      " 1982.208 1982.292 1982.375 1982.458 1982.542 1982.625 1982.708 1982.792\n",
      " 1982.875 1982.958 1983.042 1983.125 1983.208 1983.292 1983.375 1983.458\n",
      " 1983.542 1983.625 1983.708 1983.792 1983.875 1983.958 1984.042 1984.125\n",
      " 1984.208 1984.292 1984.375 1984.458 1984.542 1984.625 1984.708 1984.792\n",
      " 1984.875 1984.958 1985.042 1985.125 1985.208 1985.292 1985.375 1985.458\n",
      " 1985.542 1985.625 1985.708 1985.792 1985.875 1985.958 1986.042 1986.125\n",
      " 1986.208 1986.292 1986.375 1986.458 1986.542 1986.625 1986.708 1986.792\n",
      " 1986.875 1986.958 1987.042 1987.125 1987.208 1987.292 1987.375 1987.458\n",
      " 1987.542 1987.625 1987.708 1987.792 1987.875 1987.958 1988.042]\n",
      "[315.71 317.45 317.5  316.   315.86 314.93 313.2  313.   313.33 314.67\n",
      " 315.62 316.38 316.71 317.72 318.29 318.15 316.54 314.8  313.84 313.26\n",
      " 314.8  315.58 316.43 316.97 317.58 319.02 320.03 319.59 318.18 315.91\n",
      " 314.16 313.83 315.   316.19 316.93 317.7  318.54 319.48 320.58 319.77\n",
      " 318.57 316.79 314.8  315.38 316.1  317.01 317.94 318.56 319.68 320.63\n",
      " 321.01 320.55 319.58 317.4  316.26 315.42 316.69 317.69 318.74 319.08\n",
      " 319.86 321.39 322.25 321.47 319.74 317.77 316.21 315.99 317.12 318.31\n",
      " 319.57 320.1  320.5  321.25 322.25 321.89 320.44 318.7  316.7  316.79\n",
      " 317.79 318.71 319.44 320.44 320.89 322.13 322.16 321.87 321.39 318.81\n",
      " 317.81 317.3  318.87 319.42 320.62 321.59 322.39 323.87 324.01 323.75\n",
      " 322.39 320.37 318.64 318.1  319.79 321.08 322.07 322.5  323.04 324.42\n",
      " 325.   324.09 322.55 320.92 319.31 319.31 320.72 321.96 322.57 323.15\n",
      " 323.89 325.02 325.57 325.36 324.14 322.03 320.41 320.25 321.31 322.84\n",
      " 324.   324.42 325.64 326.66 327.34 326.76 325.88 323.67 322.38 321.78\n",
      " 322.85 324.11 325.03 325.99 326.87 328.13 328.07 327.66 326.35 324.69\n",
      " 323.1  323.16 323.98 325.13 326.17 326.68 327.18 327.78 328.92 328.57\n",
      " 327.34 325.46 323.36 323.57 324.8  326.01 326.77 327.63 327.75 329.72\n",
      " 330.07 329.09 328.05 326.32 324.93 325.06 326.5  327.55 328.54 329.56\n",
      " 330.3  331.5  332.48 332.07 330.87 329.31 327.51 327.18 328.16 328.64\n",
      " 329.35 330.71 331.48 332.65 333.19 332.16 331.07 329.12 327.32 327.28\n",
      " 328.3  329.58 330.73 331.46 331.9  333.17 333.94 333.45 331.97 329.95\n",
      " 328.5  328.34 329.37 330.   331.59 332.75 333.52 334.64 334.77 334.\n",
      " 333.06 330.68 328.95 328.75 330.15 331.62 332.66 333.13 334.95 336.13\n",
      " 336.93 336.17 334.88 332.56 331.29 331.27 332.41 333.6  334.95 335.25\n",
      " 336.66 337.69 338.03 338.01 336.41 334.41 332.37 332.41 333.75 334.9\n",
      " 336.14 336.69 338.27 338.95 339.21 339.26 337.54 335.75 333.98 334.19\n",
      " 335.31 336.81 337.9  338.34 340.01 340.93 341.48 341.33 339.4  337.7\n",
      " 336.19 336.15 337.27 338.32 339.29 340.55 341.61 342.53 343.03 342.54\n",
      " 340.78 338.44 336.95 337.08 338.58 339.88 340.96 341.73 342.81 343.97\n",
      " 344.63 343.79 342.32 340.09 338.28 338.29 339.6  340.9  341.68 342.9\n",
      " 343.33 345.25 346.03 345.63 344.19 342.27 340.35 340.38 341.59 343.05\n",
      " 344.1  344.79 345.52 346.   347.63 346.98 345.53 343.55 341.4  341.67\n",
      " 343.1  344.7  345.21 346.16 347.74 348.34 349.06 348.38 346.71 345.02\n",
      " 343.27 343.13 344.49 345.88 346.56 347.28 348.01 349.77 350.38 349.93\n",
      " 348.16 346.08 345.22 344.51 345.93 347.22 348.52 348.73 349.73 351.31\n",
      " 352.09 351.53 350.11 348.08 346.52 346.59 347.96 349.16 350.39]\n"
     ]
    }
   ],
   "source": [
    "#make two plots and perform a linear regression analysis on the data for the years… 1958-1987 and 1988-2017\n",
    "\n",
    "time1 = data[0:359,0]\n",
    "co21 = data[0:359,1]\n",
    "print(time1)\n",
    "print(co21)\n",
    "\n",
    "\n"
   ]
  },
  {
   "cell_type": "code",
   "execution_count": 20,
   "metadata": {},
   "outputs": [
    {
     "name": "stdout",
     "output_type": "stream",
     "text": [
      "-1994.7067419257235 1.178139128030591\n"
     ]
    },
    {
     "data": {
      "text/plain": [
       "[<matplotlib.lines.Line2D at 0x1651031d400>]"
      ]
     },
     "execution_count": 20,
     "metadata": {},
     "output_type": "execute_result"
    },
    {
     "data": {
      "image/png": "[encoded data removed]",
      "text/plain": [
       "<Figure size 432x288 with 1 Axes>"
      ]
     },
     "metadata": {
      "needs_background": "light"
     },
     "output_type": "display_data"
    }
   ],
   "source": [
    "intercept, slope = np.polynomial.polynomial.polyfit(time1,co21,1)\n",
    "\n",
    "print(intercept,slope)\n",
    "\n",
    "#create best fit line's x and y points\n",
    "x = np.linspace(1958,1987)\n",
    "\n",
    "#best fit line\n",
    "y = slope*x + intercept\n",
    "\n",
    "plt.xlabel(\"time\")\n",
    "plt.ylabel(\"concentration\")\n",
    "plt.title(\"concentration v.s time\")\n",
    "plt.scatter(time1,co21,color=\"purple\")\n",
    "plt.plot(x,y) "
   ]
  },
  {
   "cell_type": "code",
   "execution_count": 21,
   "metadata": {},
   "outputs": [
    {
     "name": "stdout",
     "output_type": "stream",
     "text": [
      "[1988.208 1988.292 1988.375 1988.458 1988.542 1988.625 1988.708 1988.792\n",
      " 1988.875 1988.958 1989.042 1989.125 1989.208 1989.292 1989.375 1989.458\n",
      " 1989.542 1989.625 1989.708 1989.792 1989.875 1989.958 1990.042 1990.125\n",
      " 1990.208 1990.292 1990.375 1990.458 1990.542 1990.625 1990.708 1990.792\n",
      " 1990.875 1990.958 1991.042 1991.125 1991.208 1991.292 1991.375 1991.458\n",
      " 1991.542 1991.625 1991.708 1991.792 1991.875 1991.958 1992.042 1992.125\n",
      " 1992.208 1992.292 1992.375 1992.458 1992.542 1992.625 1992.708 1992.792\n",
      " 1992.875 1992.958 1993.042 1993.125 1993.208 1993.292 1993.375 1993.458\n",
      " 1993.542 1993.625 1993.708 1993.792 1993.875 1993.958 1994.042 1994.125\n",
      " 1994.208 1994.292 1994.375 1994.458 1994.542 1994.625 1994.708 1994.792\n",
      " 1994.875 1994.958 1995.042 1995.125 1995.208 1995.292 1995.375 1995.458\n",
      " 1995.542 1995.625 1995.708 1995.792 1995.875 1995.958 1996.042 1996.125\n",
      " 1996.208 1996.292 1996.375 1996.458 1996.542 1996.625 1996.708 1996.792\n",
      " 1996.875 1996.958 1997.042 1997.125 1997.208 1997.292 1997.375 1997.458\n",
      " 1997.542 1997.625 1997.708 1997.792 1997.875 1997.958 1998.042 1998.125\n",
      " 1998.208 1998.292 1998.375 1998.458 1998.542 1998.625 1998.708 1998.792\n",
      " 1998.875 1998.958 1999.042 1999.125 1999.208 1999.292 1999.375 1999.458\n",
      " 1999.542 1999.625 1999.708 1999.792 1999.875 1999.958 2000.042 2000.125\n",
      " 2000.208 2000.292 2000.375 2000.458 2000.542 2000.625 2000.708 2000.792\n",
      " 2000.875 2000.958 2001.042 2001.125 2001.208 2001.292 2001.375 2001.458\n",
      " 2001.542 2001.625 2001.708 2001.792 2001.875 2001.958 2002.042 2002.125\n",
      " 2002.208 2002.292 2002.375 2002.458 2002.542 2002.625 2002.708 2002.792\n",
      " 2002.875 2002.958 2003.042 2003.125 2003.208 2003.292 2003.375 2003.458\n",
      " 2003.542 2003.625 2003.708 2003.792 2003.875 2003.958 2004.042 2004.125\n",
      " 2004.208 2004.292 2004.375 2004.458 2004.542 2004.625 2004.708 2004.792\n",
      " 2004.875 2004.958 2005.042 2005.125 2005.208 2005.292 2005.375 2005.458\n",
      " 2005.542 2005.625 2005.708 2005.792 2005.875 2005.958 2006.042 2006.125\n",
      " 2006.208 2006.292 2006.375 2006.458 2006.542 2006.625 2006.708 2006.792\n",
      " 2006.875 2006.958 2007.042 2007.125 2007.208 2007.292 2007.375 2007.458\n",
      " 2007.542 2007.625 2007.708 2007.792 2007.875 2007.958 2008.042 2008.125\n",
      " 2008.208 2008.292 2008.375 2008.458 2008.542 2008.625 2008.708 2008.792\n",
      " 2008.875 2008.958 2009.042 2009.125 2009.208 2009.292 2009.375 2009.458\n",
      " 2009.542 2009.625 2009.708 2009.792 2009.875 2009.958 2010.042 2010.125\n",
      " 2010.208 2010.292 2010.375 2010.458 2010.542 2010.625 2010.708 2010.792\n",
      " 2010.875 2010.958 2011.042 2011.125 2011.208 2011.292 2011.375 2011.458\n",
      " 2011.542 2011.625 2011.708 2011.792 2011.875 2011.958 2012.042 2012.125\n",
      " 2012.208 2012.292 2012.375 2012.458 2012.542 2012.625 2012.708 2012.792\n",
      " 2012.875 2012.958 2013.042 2013.125 2013.208 2013.292 2013.375 2013.458\n",
      " 2013.542 2013.625 2013.708 2013.792 2013.875 2013.958 2014.042 2014.125\n",
      " 2014.208 2014.292 2014.375 2014.458 2014.542 2014.625 2014.708 2014.792\n",
      " 2014.875 2014.958 2015.042 2015.125 2015.208 2015.292 2015.375 2015.458\n",
      " 2015.542 2015.625 2015.708 2015.792 2015.875 2015.958 2016.042 2016.125\n",
      " 2016.208 2016.292 2016.375 2016.458 2016.542 2016.625 2016.708 2016.792\n",
      " 2016.875 2016.958 2017.042 2017.125 2017.208 2017.292 2017.375 2017.458\n",
      " 2017.542 2017.625 2017.708 2017.792 2017.875 2017.958]\n",
      "[352.4  353.69 354.21 353.72 352.69 350.4  348.92 349.12 350.2  351.41\n",
      " 352.91 353.27 353.96 355.64 355.86 355.37 353.99 351.81 350.05 350.25\n",
      " 351.49 352.85 353.8  355.04 355.73 356.32 357.32 356.34 354.84 353.01\n",
      " 351.31 351.62 353.07 354.33 354.84 355.73 357.23 358.66 359.13 358.13\n",
      " 356.19 353.85 352.25 352.35 353.81 355.12 356.25 357.11 357.86 359.09\n",
      " 359.59 359.33 357.01 354.94 352.96 353.32 354.32 355.57 357.   357.31\n",
      " 358.47 359.27 360.19 359.52 357.33 355.64 354.03 354.12 355.41 356.91\n",
      " 358.24 358.92 359.99 361.23 361.65 360.81 359.38 357.46 355.73 356.08\n",
      " 357.53 358.98 359.92 360.86 361.83 363.3  363.69 363.19 361.64 359.12\n",
      " 358.17 357.99 359.45 360.68 362.07 363.24 364.17 364.57 365.13 364.92\n",
      " 363.55 361.38 359.54 359.58 360.89 362.24 363.09 364.03 364.51 366.35\n",
      " 366.64 365.59 364.31 362.25 360.29 360.82 362.49 364.38 365.27 365.98\n",
      " 367.24 368.66 369.42 368.99 367.82 365.95 364.02 364.4  365.52 367.13\n",
      " 368.18 369.07 369.68 370.99 370.96 370.3  369.45 366.9  364.81 365.37\n",
      " 366.72 368.1  369.29 369.54 370.6  371.82 371.58 371.7  369.86 368.13\n",
      " 367.   367.03 368.37 369.67 370.59 371.51 372.43 373.37 373.85 373.22\n",
      " 371.5  369.61 368.18 368.45 369.76 371.24 372.53 373.2  374.12 375.02\n",
      " 375.76 375.52 374.01 371.85 370.75 370.55 372.25 373.79 374.88 375.64\n",
      " 376.45 377.73 378.6  378.28 376.7  374.38 373.17 373.15 374.66 375.99\n",
      " 377.   377.87 378.88 380.35 380.62 379.69 377.47 376.01 374.25 374.46\n",
      " 376.16 377.51 378.46 379.73 380.77 382.29 382.45 382.21 380.74 378.74\n",
      " 376.7  377.   378.35 380.11 381.38 382.19 382.67 384.61 385.03 384.05\n",
      " 382.46 380.41 378.85 379.13 380.15 381.82 382.89 383.9  384.58 386.5\n",
      " 386.56 386.1  384.5  381.99 380.96 381.12 382.45 383.95 385.52 385.82\n",
      " 386.03 387.21 388.54 387.76 386.36 384.09 383.18 382.99 384.19 385.56\n",
      " 386.94 387.48 388.82 389.55 390.14 389.48 388.03 386.11 384.74 384.43\n",
      " 386.02 387.42 388.71 390.2  391.17 392.46 393.   392.15 390.2  388.35\n",
      " 386.85 387.24 388.67 389.79 391.33 391.86 392.6  393.25 394.19 393.74\n",
      " 392.51 390.13 389.08 389.   390.28 391.86 393.12 393.86 394.4  396.18\n",
      " 396.74 395.71 394.36 392.39 391.11 391.05 392.98 394.34 395.55 396.8\n",
      " 397.43 398.41 399.78 398.61 397.32 395.2  393.45 393.7  395.16 396.84\n",
      " 397.85 398.01 399.77 401.38 401.78 401.25 399.1  397.03 395.38 396.03\n",
      " 397.28 398.91 399.98 400.28 401.54 403.28 403.96 402.8  401.31 398.93\n",
      " 397.63 398.29 400.16 401.85 402.56 404.12 404.87 407.45 407.72 406.83\n",
      " 404.41 402.27 401.05 401.59 403.55 404.45 406.17 406.46 407.22 409.04\n",
      " 409.69 408.88 407.12 405.13 403.37 403.63 405.12 406.81]\n"
     ]
    }
   ],
   "source": [
    "#make two plots and perform a linear regression analysis on the data for the years… 1958-1987 and 1988-2017\n",
    "\n",
    "time2 = data[360:,0]\n",
    "co22 = data[360:,1]\n",
    "print(time2)\n",
    "print(co22)"
   ]
  },
  {
   "cell_type": "code",
   "execution_count": 22,
   "metadata": {},
   "outputs": [
    {
     "name": "stdout",
     "output_type": "stream",
     "text": [
      "-3428.264652116159 1.899229125243827\n"
     ]
    },
    {
     "data": {
      "text/plain": [
       "[<matplotlib.lines.Line2D at 0x16510371a90>]"
      ]
     },
     "execution_count": 22,
     "metadata": {},
     "output_type": "execute_result"
    },
    {
     "data": {
      "image/png": "[encoded data removed]",
      "text/plain": [
       "<Figure size 432x288 with 1 Axes>"
      ]
     },
     "metadata": {
      "needs_background": "light"
     },
     "output_type": "display_data"
    }
   ],
   "source": [
    "intercept, slope = np.polynomial.polynomial.polyfit(time2,co22,1)\n",
    "\n",
    "print(intercept,slope)\n",
    "\n",
    "#create best fit line's x and y points\n",
    "x = np.linspace(1988,2017)\n",
    "\n",
    "#best fit line\n",
    "y = slope*x + intercept\n",
    "\n",
    "plt.xlabel(\"time\")\n",
    "plt.ylabel(\"concentration\")\n",
    "plt.title(\"concentration v.s time\")\n",
    "plt.scatter(time2,co22,color=\"purple\")\n",
    "plt.plot(x,y) "
   ]
  },
  {
   "cell_type": "markdown",
   "metadata": {},
   "source": [
    "Compare the behavior of CO2 levels in the first half of the data set to the second half. If the rate of CO2 concentration(ppm)/year continues as it has in the 1988-2017 range, what would the CO2 concentration(ppm) be in 2040?"
   ]
  },
  {
   "cell_type": "code",
   "execution_count": 26,
   "metadata": {},
   "outputs": [
    {
     "name": "stdout",
     "output_type": "stream",
     "text": [
      "446.1627633812477\n"
     ]
    }
   ],
   "source": [
    "y = slope*2040 + intercept\n",
    "print (y)\n"
   ]
  },
  {
   "cell_type": "code",
   "execution_count": null,
   "metadata": {},
   "outputs": [],
   "source": []
  }
 ],
 "metadata": {
  "kernelspec": {
   "display_name": "Python 3",
   "language": "python",
   "name": "python3"
  },
  "language_info": {
   "codemirror_mode": {
    "name": "ipython",
    "version": 3
   },
   "file_extension": ".py",
   "mimetype": "text/x-python",
   "name": "python",
   "nbconvert_exporter": "python",
   "pygments_lexer": "ipython3",
   "version": "3.8.5"
  }
 },
 "nbformat": 4,
 "nbformat_minor": 4
}
